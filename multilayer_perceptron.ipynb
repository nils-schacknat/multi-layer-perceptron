{
 "cells": [
  {
   "cell_type": "code",
   "execution_count": 1,
   "id": "1cf1c2b0",
   "metadata": {},
   "outputs": [],
   "source": [
    "import numpy as np\n",
    "import matplotlib.pyplot as plt\n",
    "\n",
    "from network_components import *\n",
    "from network_logic import Model\n",
    "from sample_data import *\n",
    "\n",
    "import ipywidgets"
   ]
  },
  {
   "cell_type": "code",
   "execution_count": 6,
   "id": "c8bb2782",
   "metadata": {},
   "outputs": [],
   "source": [
    "def get_grid_predictions(x_min, x_max, nx, y_min, y_max, ny, model):\n",
    "    x = np.linspace(x_min, x_max, nx)\n",
    "    y = np.linspace(y_min, y_max, ny)\n",
    "    xx, yy = np.meshgrid(x, y)\n",
    "    points = np.vstack((\n",
    "        xx.flatten(),\n",
    "        yy.flatten()\n",
    "    ))\n",
    "\n",
    "    def softmax(Z):\n",
    "        Z_exp = np.exp(Z)\n",
    "        return Z_exp / np.sum(Z_exp, axis=0)\n",
    "    preds = softmax(model(points))[0].reshape(ny, nx)\n",
    "    \n",
    "    return x, y, preds\n",
    "\n",
    "\n",
    "x_min=-2.5\n",
    "x_max=2.5\n",
    "nx=50\n",
    "y_min=-2.5\n",
    "y_max=2.5\n",
    "ny=50\n",
    "\n",
    "def get_grid_predictions_wrapper(model):\n",
    "    return get_grid_predictions(x_min, x_max, nx, y_min, y_max, ny, model)"
   ]
  },
  {
   "cell_type": "code",
   "execution_count": 10,
   "id": "5b5b14db",
   "metadata": {},
   "outputs": [],
   "source": [
    "def plot_grid_prediction(grid_prediction, X, Y):\n",
    "    x, y, preds = grid_prediction\n",
    "    \n",
    "    cmap = 'RdYlBu'\n",
    "    num_levels = 200\n",
    "\n",
    "    plt.contourf(x, y, preds, levels=np.linspace(0, 1, num_levels), cmap=cmap)\n",
    "    plt.colorbar(ticks=np.linspace(0, 1, 11)) \n",
    "    plt.contour(x, y, preds, levels=[.5], linewidths=.5)\n",
    "    plt.scatter(X[0], X[1], c=Y, edgecolors='grey', cmap=cmap)\n",
    "    plt.show()"
   ]
  },
  {
   "cell_type": "code",
   "execution_count": 8,
   "id": "aa4aebc7",
   "metadata": {},
   "outputs": [],
   "source": [
    "# Get sample data\n",
    "X, Y = circle()\n",
    "# Transform Y into probabilities\n",
    "Y_ = np.zeros((2, Y.shape[0]))\n",
    "Y_[0, Y==1] = 1\n",
    "Y_[1, Y==0] = 1"
   ]
  },
  {
   "cell_type": "code",
   "execution_count": 38,
   "id": "9958b489",
   "metadata": {},
   "outputs": [],
   "source": [
    "# gaussian: 0 hidden layers\n",
    "# x_or: 1 hidden layer, 2 neurons\n",
    "# circle: 1 hidden layer, 6 neurons\n",
    "\n",
    "linear1 = LinearLayer(in_features=2, out_features=10)\n",
    "relu1 = ReLU()\n",
    "linear2 = LinearLayer(in_features=10, out_features=10)\n",
    "relu2 = ReLU()\n",
    "linear3 = LinearLayer(in_features=10, out_features=2)\n",
    "smax_ce_loss = SoftmaxCrossEntropyLoss()\n",
    "\n",
    "model = Model(\n",
    "    linear1,\n",
    "    relu1,\n",
    "    linear2,\n",
    "    relu2,\n",
    "    linear3,\n",
    "    loss_func=smax_ce_loss\n",
    ")"
   ]
  },
  {
   "cell_type": "code",
   "execution_count": 39,
   "id": "a877f4e0",
   "metadata": {},
   "outputs": [
    {
     "name": "stderr",
     "output_type": "stream",
     "text": [
      "#Epoch 1/100: 100%|############| 100/100 [00:00<00:00, 110.67it/s, Acc = 0.0000]\n"
     ]
    }
   ],
   "source": [
    "num_epochs = 100\n",
    "batch_size = 16\n",
    "lr = .01\n",
    "\n",
    "acc_list, loss_list, grid_prediction_list = model.fit(\n",
    "    X, \n",
    "    Y_, \n",
    "    num_epochs, \n",
    "    batch_size, \n",
    "    lr,\n",
    "    get_grid_predictions_wrapper\n",
    ")"
   ]
  },
  {
   "cell_type": "code",
   "execution_count": 40,
   "id": "77b3413b",
   "metadata": {},
   "outputs": [
    {
     "data": {
      "application/vnd.jupyter.widget-view+json": {
       "model_id": "e851dac52c2a4ebd96ad0c6e7e1c2a2b",
       "version_major": 2,
       "version_minor": 0
      },
      "text/plain": [
       "interactive(children=(IntSlider(value=0, continuous_update=False, description='Epoch:', max=99), Output()), _d…"
      ]
     },
     "metadata": {},
     "output_type": "display_data"
    },
    {
     "data": {
      "application/vnd.jupyter.widget-view+json": {
       "model_id": "fa06bee1acf94bc18ba6ab6be02aaa5e",
       "version_major": 2,
       "version_minor": 0
      },
      "text/plain": [
       "interactive(children=(IntSlider(value=0, continuous_update=False, description='Epoch:', max=99), Output()), _d…"
      ]
     },
     "metadata": {},
     "output_type": "display_data"
    },
    {
     "name": "stdout",
     "output_type": "stream",
     "text": [
      "\n"
     ]
    }
   ],
   "source": [
    "def plot_grid_prediction_wrapper(x):\n",
    "    plot_grid_prediction(grid_prediction_list[x], X, Y)\n",
    "\n",
    "x = ipywidgets.IntSlider(\n",
    "    value=0,\n",
    "    min=0,\n",
    "    max=len(grid_prediction_list)-1,\n",
    "    description='Epoch:',\n",
    "    continuous_update=False,\n",
    "    orientation='horizontal',\n",
    "    readout=True,\n",
    "    readout_format='d'\n",
    ")\n",
    "\n",
    "def p(x):\n",
    "    print(f'Accuracy: {acc_list[x]:.3f}')\n",
    "    \n",
    "ipywidgets.interact(p, x=x)\n",
    "ipywidgets.interact(plot_grid_prediction_wrapper, x=x)\n",
    "print()"
   ]
  },
  {
   "cell_type": "code",
   "execution_count": null,
   "id": "c14b1b00",
   "metadata": {},
   "outputs": [],
   "source": []
  }
 ],
 "metadata": {
  "kernelspec": {
   "display_name": "Python 3 (ipykernel)",
   "language": "python",
   "name": "python3"
  },
  "language_info": {
   "codemirror_mode": {
    "name": "ipython",
    "version": 3
   },
   "file_extension": ".py",
   "mimetype": "text/x-python",
   "name": "python",
   "nbconvert_exporter": "python",
   "pygments_lexer": "ipython3",
   "version": "3.9.12"
  }
 },
 "nbformat": 4,
 "nbformat_minor": 5
}
